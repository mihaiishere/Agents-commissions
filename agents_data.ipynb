{
 "cells": [
  {
   "cell_type": "markdown",
   "id": "8f0103f9-c3ef-462c-b143-47aaa400a1b6",
   "metadata": {},
   "source": [
    "## Generate data for agents' commissions VBA macro\n",
    "\n",
    "Since the VBA macro was using confidential data I created the below script to create dummy data.\n",
    "\n",
    "---\n",
    "\n",
    "## Preparing the Environment\n",
    "\n",
    "We will import the required libraries and read in the data set.\n",
    "\n",
    "- Random - Pseudo-random number generators\n",
    "- Pandas - Data manipulation\n",
    "- Names - Random name generator\n",
    "- Datetime - Dates and time manipulation\n"
   ]
  },
  {
   "cell_type": "code",
   "execution_count": 1,
   "id": "e9452a3f-4c90-4330-a2b8-5b4a75d8bb76",
   "metadata": {},
   "outputs": [],
   "source": [
    "import random\n",
    "import pandas as pd\n",
    "import names\n",
    "from datetime import datetime"
   ]
  },
  {
   "cell_type": "code",
   "execution_count": 2,
   "id": "afc5e807-8334-442b-a6a9-72b0cf97f628",
   "metadata": {},
   "outputs": [],
   "source": [
    "# Declare constants\n",
    "TAX_TYPES = ['CAS', 'CASS', 'TAX','NET COMMISSION']\n",
    "BUSINESS_LINES = [1, 2, 3]\n",
    "AGENT_CLASSES = ['AA', 'BB', 'CC'] #extra data\n",
    "GENDERS = {\"male\": \"1\", \"female\": \"9\"} #extra data, but needed to generate names correctly according to the Identification Number\n",
    "TERMINATION_DATE = \"01-01-3000\" #extra data\n",
    "YEAR_MONTH = \"2025-01 IAN\" #current month"
   ]
  },
  {
   "cell_type": "code",
   "execution_count": 3,
   "id": "d571043c-375b-42bf-8687-d126bc5652ef",
   "metadata": {},
   "outputs": [],
   "source": [
    "# Create functions to generate columns that are not simply random or predefined\n",
    "def generate_id(start_digit, length):\n",
    "    return int(str(start_digit) + ''.join(random.choices('0123456789', k=length - 1)))\n",
    "\n",
    "\n",
    "def generate_amounts(base_amount):\n",
    "    cas = base_amount * 0.25\n",
    "    cass = base_amount * 0.10\n",
    "    tax = (base_amount - cas - cass) * 0.10\n",
    "    net_commission = base_amount - cas - cass - tax\n",
    "    return [cas, cass, tax, net_commission]\n",
    "\n",
    "\n",
    "def generate_hiring_date():\n",
    "    year = random.randint(2005, datetime.now().year)\n",
    "    month = random.randint(1, 12)\n",
    "    return f\"01-{month:02d}-{year}\""
   ]
  },
  {
   "cell_type": "code",
   "execution_count": 4,
   "id": "a4283fdb-5e7e-40ad-9f45-b0351433d2c3",
   "metadata": {},
   "outputs": [],
   "source": [
    "# Generate data\n",
    "data = []\n",
    "num_agents = 50  # Number of agents to generate\n",
    "\n",
    "for _ in range(num_agents):\n",
    "    agent_id = random.randint(10000, 99999)\n",
    "    business_line = random.choice(BUSINESS_LINES)\n",
    "    agent_class = random.choice(AGENT_CLASSES)\n",
    "    gender_key = random.choice(list(GENDERS.keys()))\n",
    "    id_number = generate_id(GENDERS[gender_key], 7)\n",
    "    last_name = names.get_last_name()\n",
    "    first_name = names.get_first_name(gender=gender_key)\n",
    "    hiring_date = generate_hiring_date()\n",
    "    base_amount = random.uniform(6100, 30000)\n",
    "    amounts = generate_amounts(base_amount)\n",
    "\n",
    "    for tax_type, amount in zip(TAX_TYPES, amounts):\n",
    "        data.append([\n",
    "            agent_id, business_line, TERMINATION_DATE, agent_class, id_number,\n",
    "            last_name, first_name, hiring_date, YEAR_MONTH, tax_type, round(amount, 2)\n",
    "        ])"
   ]
  },
  {
   "cell_type": "code",
   "execution_count": 5,
   "id": "aba3e78b-32e5-4aac-99ab-ceea5d2f9269",
   "metadata": {},
   "outputs": [],
   "source": [
    "# Create DataFrame\n",
    "columns = [\n",
    "    \"Agent ID\", \"Business Line\", \"Termination Date\", \"Agent Class\", \"ID\",\n",
    "    \"Last Name\", \"First Name\", \"Hiring Date\", \"Year/Month\", \"Tax Type\", \"Amount\"\n",
    "]\n",
    "df = pd.DataFrame(data, columns=columns)"
   ]
  },
  {
   "cell_type": "code",
   "execution_count": 6,
   "id": "f2453c1f-09e4-4518-86dc-f7fab3af147b",
   "metadata": {},
   "outputs": [
    {
     "name": "stdout",
     "output_type": "stream",
     "text": [
      "Excel file 'agent_data.xlsx' has been generated successfully.\n"
     ]
    }
   ],
   "source": [
    "# Generate the Excel file\n",
    "output_file = \"agent_data.xlsx\"\n",
    "df.to_excel(output_file, index=False)\n",
    "\n",
    "print(f\"Excel file '{output_file}' has been generated successfully.\")"
   ]
  },
  {
   "cell_type": "markdown",
   "id": "66ac793b-53ae-4f40-85b0-84a59e56acba",
   "metadata": {},
   "source": [
    "Now that we have the data generated, the VBA macro can be used.\n",
    "\n",
    "---"
   ]
  }
 ],
 "metadata": {
  "kernelspec": {
   "display_name": "Python 3 (ipykernel)",
   "language": "python",
   "name": "python3"
  },
  "language_info": {
   "codemirror_mode": {
    "name": "ipython",
    "version": 3
   },
   "file_extension": ".py",
   "mimetype": "text/x-python",
   "name": "python",
   "nbconvert_exporter": "python",
   "pygments_lexer": "ipython3",
   "version": "3.10.6"
  }
 },
 "nbformat": 4,
 "nbformat_minor": 5
}
